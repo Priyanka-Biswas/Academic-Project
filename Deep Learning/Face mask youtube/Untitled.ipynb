{
 "cells": [
  {
   "cell_type": "code",
   "execution_count": 13,
   "metadata": {},
   "outputs": [
    {
     "name": "stdout",
     "output_type": "stream",
     "text": [
      "['Ava', 'Sophia', 'Olivia', 'Emma']\n"
     ]
    }
   ],
   "source": [
    "def unique_names(names1, names2):\n",
    "    names1_set = set(names1)\n",
    "    names2_set = set(names2)\n",
    "    return list(names1_set.union(names2_set))\n",
    "names1 = [\"Ava\", \"Emma\", \"Olivia\"]\n",
    "names2 = [\"Olivia\", \"Sophia\", \"Emma\"]\n",
    "print(unique_names(names1,names2))\n",
    "\n"
   ]
  },
  {
   "cell_type": "code",
   "execution_count": 12,
   "metadata": {},
   "outputs": [
    {
     "name": "stdout",
     "output_type": "stream",
     "text": [
      "None\n"
     ]
    }
   ],
   "source": []
  },
  {
   "cell_type": "code",
   "execution_count": null,
   "metadata": {},
   "outputs": [],
   "source": []
  }
 ],
 "metadata": {
  "kernelspec": {
   "display_name": "Python 3",
   "language": "python",
   "name": "python3"
  },
  "language_info": {
   "codemirror_mode": {
    "name": "ipython",
    "version": 3
   },
   "file_extension": ".py",
   "mimetype": "text/x-python",
   "name": "python",
   "nbconvert_exporter": "python",
   "pygments_lexer": "ipython3",
   "version": "3.7.4"
  }
 },
 "nbformat": 4,
 "nbformat_minor": 2
}
